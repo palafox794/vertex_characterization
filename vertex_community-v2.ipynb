{
 "cells": [
  {
   "cell_type": "code",
   "execution_count": 2,
   "metadata": {},
   "outputs": [],
   "source": [
    "import networkx as nx\n",
    "import random\n",
    "\n",
    "import numpy as np\n",
    "\n",
    "import matplotlib.pyplot as plt\n",
    "\n",
    "import csv"
   ]
  },
  {
   "cell_type": "code",
   "execution_count": 3,
   "metadata": {},
   "outputs": [],
   "source": [
    "def visualize_network(network):\n",
    "    \"\"\"Creates image of adjacency matrix of network, where each black dot represents an edge\"\"\"\n",
    "    adjmatrix = nx.adjacency_matrix(network)\n",
    "    adjmatrix = adjmatrix.toarray()\n",
    "    \n",
    "    plt.gray()\n",
    "    plt.imshow((-1)*(adjmatrix-1))"
   ]
  },
  {
   "cell_type": "code",
   "execution_count": 4,
   "metadata": {},
   "outputs": [],
   "source": [
    "def degree_seq_to_csv(network, namefile):\n",
    "    \"\"\"Creates 'namefile.csv' file with degree sequence of network\"\"\"\n",
    "    \n",
    "    fields = ['degree']\n",
    "    \n",
    "    l = [network.degree(i) for i in range(len(network.nodes))]\n",
    "    \n",
    "    with open(namefile, 'w') as f:\n",
    "        write = csv.writer(f)\n",
    "        write.writerow(fields)\n",
    "        write.writerows([[x] for x in l])"
   ]
  },
  {
   "cell_type": "markdown",
   "metadata": {},
   "source": [
    "Our goal is to study and distinguish three types of nodes in a network:\n",
    "\n",
    "-*No cluster*: Nodes belonging to no particular community/cluster (these two words will be used interchangeably).\n",
    "\n",
    "*-In cluster*: Nodes belonging to \"a flat\" cluster. There are no \"clusters within\" this cluster.\n",
    "\n",
    "-*In hierarchical cluster*: Nodes belonging to a cluster which has sub-clusters within."
   ]
  },
  {
   "cell_type": "markdown",
   "metadata": {},
   "source": [
    "*******\n",
    "We'll attempt to create a random graph model where there are `nc` vertices of type *no cluster*, `ic` vertices of type *In cluster* and `ihc` vertices of type *In hierarchical cluster* .\n",
    "\n",
    "Integers will represent nodes. Numbers 0, 1, ..., `nc-1` will be nodes of type *No cluster*; numbers `nc`, `nc` +1, ..., `nc`+ `ic` - 1, will be of type *In cluster*, and the rest will of type *In hierarchical cluster*\n",
    "\n"
   ]
  },
  {
   "cell_type": "markdown",
   "metadata": {},
   "source": [
    "We will aim for an almost $k$-regular network"
   ]
  },
  {
   "cell_type": "code",
   "execution_count": 5,
   "metadata": {},
   "outputs": [],
   "source": [
    "k = 30"
   ]
  },
  {
   "cell_type": "markdown",
   "metadata": {},
   "source": [
    "On each node, we will create $k$ *stubs* (think half-edges). While we have stubs, we will choose one uniformly at random. We will look at the type of the node, and depending on its type, we will choose a second type with certain probability. Then we will choose a second stub uniformly at random **from this second type** and match it with our first stub\n",
    "\n",
    "If we have type 'nc', we will match it with any stub uniformly at random.\n",
    "\n",
    "If we have type 'ic', we will match it with a stub of type 'ic' with probability $p$.\n",
    "\n",
    "If we have type 'ihc1', we will match it with a stub of type 'ihc1' with probability $p^2$, or with a stub of type 'ihc2' with probability $p(1-p)$"
   ]
  },
  {
   "cell_type": "code",
   "execution_count": 6,
   "metadata": {},
   "outputs": [],
   "source": [
    "p = .7\n",
    "q = 1-p"
   ]
  },
  {
   "cell_type": "markdown",
   "metadata": {},
   "source": [
    "**********\n",
    "For our first try, our goal is to create a network with 80 nodes in no cluster, 50 in a single cluster, and 150 in a hierarchical cluster which consists of two sub-clusters of 90 and 60 nodes each"
   ]
  },
  {
   "cell_type": "code",
   "execution_count": 7,
   "metadata": {},
   "outputs": [],
   "source": [
    "nc, ic, ihc1, ihc2 = 80, 50, 90, 60\n",
    "\n",
    "no_cluster = [x for x in range(nc)] \n",
    "\n",
    "in_cluster = [x + nc for x in range(ic)] \n",
    "\n",
    "in_hier_cluster1 = [x + nc + ic for x in range(ihc1)] \n",
    "\n",
    "in_hier_cluster2 = [x + nc + ic + ihc1 for x in range(ihc2)]"
   ]
  },
  {
   "cell_type": "code",
   "execution_count": 8,
   "metadata": {},
   "outputs": [],
   "source": [
    "G = nx.Graph()\n",
    "\n",
    "G.add_nodes_from(no_cluster + in_cluster + in_hier_cluster1 + in_hier_cluster2)"
   ]
  },
  {
   "cell_type": "code",
   "execution_count": 9,
   "metadata": {},
   "outputs": [],
   "source": [
    "stubs = ([node for node in no_cluster for i in range(k)]\n",
    "         + [node for node in in_cluster for i in range(k)]\n",
    "         + [node for node in in_hier_cluster1 for i in range(k)]\n",
    "        + [node for node in in_hier_cluster2 for i in range(k)])"
   ]
  },
  {
   "cell_type": "code",
   "execution_count": 10,
   "metadata": {},
   "outputs": [],
   "source": [
    "while len(stubs) > 0:\n",
    "    stub1 = np.random.choice(a = stubs)\n",
    "     \n",
    "    #Determine possible matches depending on type of stub1 \n",
    "    if stub1 in no_cluster:\n",
    "        possible_matches = [st for st in stubs]\n",
    "        \n",
    "    elif stub1 in in_cluster: \n",
    "        u = random.uniform(0,1)\n",
    "        if u < p:\n",
    "            possible_matches = [st for st in stubs if st in in_cluster]\n",
    "\n",
    "        else:\n",
    "            possible_matches = [st for st in stubs if st not in in_cluster]\n",
    "            \n",
    "    elif stub1 in in_hier_cluster1:\n",
    "        u = random.uniform(0,1)\n",
    "        if u < p*p:\n",
    "            possible_matches = [st for st in stubs if st in in_hier_cluster1]\n",
    "            \n",
    "        elif u < (p*p + p*q):\n",
    "            possible_matches = [st for st in stubs if st in in_hier_cluster2]\n",
    "        else:\n",
    "            possible_matches = [st for st in stubs if st not in in_hier_cluster1 + in_hier_cluster2]\n",
    "        \n",
    "    elif stub1 in in_hier_cluster2:\n",
    "        u = random.uniform(0,1)\n",
    "        if u < p*p:\n",
    "            possible_matches = [st for st in stubs if st in in_hier_cluster2]\n",
    "            \n",
    "        elif u < (p*p + p*q):\n",
    "            possible_matches = [st for st in stubs if st in in_hier_cluster1]\n",
    "        else:\n",
    "            possible_matches = [st for st in stubs if st not in in_hier_cluster1 + in_hier_cluster2]\n",
    "    \n",
    "    #Now we have a list of possible matches\n",
    "    #If its empty, we do nothing\n",
    "    if stub1 in possible_matches:\n",
    "        possible_matches.remove(stub1)\n",
    "    \n",
    "    if len(possible_matches) > 0:\n",
    "        stub2 = np.random.choice(a = possible_matches)\n",
    "        G.add_edge(stub1, stub2)\n",
    "        stubs.remove(stub1)\n",
    "        stubs.remove(stub2)      "
   ]
  },
  {
   "cell_type": "code",
   "execution_count": 11,
   "metadata": {},
   "outputs": [
    {
     "data": {
      "text/plain": [
       "3904"
      ]
     },
     "execution_count": 11,
     "metadata": {},
     "output_type": "execute_result"
    }
   ],
   "source": [
    "len(G.edges)"
   ]
  },
  {
   "cell_type": "code",
   "execution_count": 12,
   "metadata": {},
   "outputs": [],
   "source": [
    "G.remove_edges_from(nx.selfloop_edges(G))"
   ]
  },
  {
   "cell_type": "code",
   "execution_count": 13,
   "metadata": {},
   "outputs": [
    {
     "data": {
      "text/plain": [
       "3875"
      ]
     },
     "execution_count": 13,
     "metadata": {},
     "output_type": "execute_result"
    }
   ],
   "source": [
    "len(G.edges)"
   ]
  },
  {
   "cell_type": "code",
   "execution_count": 14,
   "metadata": {},
   "outputs": [
    {
     "data": {
      "image/png": "[encoded data removed]",
      "text/plain": [
       "<Figure size 432x288 with 1 Axes>"
      ]
     },
     "metadata": {
      "needs_background": "light"
     },
     "output_type": "display_data"
    }
   ],
   "source": [
    "visualize_network(G)"
   ]
  },
  {
   "cell_type": "code",
   "execution_count": 15,
   "metadata": {},
   "outputs": [
    {
     "data": {
      "text/plain": [
       "{22, 23, 24, 25, 26, 27, 28, 29, 30}"
      ]
     },
     "execution_count": 15,
     "metadata": {},
     "output_type": "execute_result"
    }
   ],
   "source": [
    "set([G.degree(i) for i in range(len(G.nodes))])"
   ]
  },
  {
   "cell_type": "markdown",
   "metadata": {},
   "source": [
    "***********"
   ]
  },
  {
   "cell_type": "markdown",
   "metadata": {},
   "source": [
    "**********\n",
    "A second example, changing the way we deal with 'no cluster' nodes"
   ]
  },
  {
   "cell_type": "code",
   "execution_count": 32,
   "metadata": {},
   "outputs": [],
   "source": [
    "nc, ic, ihc1, ihc2 = 80, 50, 90, 60\n",
    "\n",
    "no_cluster = [x for x in range(nc)] \n",
    "\n",
    "in_cluster = [x + nc for x in range(ic)] \n",
    "\n",
    "in_hier_cluster1 = [x + nc + ic for x in range(ihc1)] \n",
    "\n",
    "in_hier_cluster2 = [x + nc + ic + ihc1 for x in range(ihc2)]"
   ]
  },
  {
   "cell_type": "code",
   "execution_count": 33,
   "metadata": {},
   "outputs": [],
   "source": [
    "G = nx.Graph()\n",
    "\n",
    "G.add_nodes_from(no_cluster + in_cluster + in_hier_cluster1 + in_hier_cluster2)"
   ]
  },
  {
   "cell_type": "code",
   "execution_count": 34,
   "metadata": {},
   "outputs": [],
   "source": [
    "stubs = ([node for node in no_cluster for i in range(k)]\n",
    "         + [node for node in in_cluster for i in range(k)]\n",
    "         + [node for node in in_hier_cluster1 for i in range(k)]\n",
    "        + [node for node in in_hier_cluster2 for i in range(k)])"
   ]
  },
  {
   "cell_type": "code",
   "execution_count": 35,
   "metadata": {},
   "outputs": [],
   "source": [
    "while len(stubs) > 0:\n",
    "    stub1 = np.random.choice(a = stubs)\n",
    "     \n",
    "    #Determine possible matches depending on type of stub1 \n",
    "    if stub1 in no_cluster:\n",
    "        u = random.uniform(0,1)\n",
    "        #This is what's different from our previous example. We are\n",
    "        #choosing a node outside of 'no_cluster' with prob = .75\n",
    "        if u < .25: \n",
    "            possible_matches = [st for st in stubs if st in no_cluster]\n",
    "        else:\n",
    "            possible_matches = [st for st in stubs if st not in no_cluster]\n",
    "        \n",
    "    elif stub1 in in_cluster: \n",
    "        u = random.uniform(0,1)\n",
    "        if u < p:\n",
    "            possible_matches = [st for st in stubs if st in in_cluster]\n",
    "\n",
    "        else:\n",
    "            possible_matches = [st for st in stubs if st not in in_cluster]\n",
    "            \n",
    "    elif stub1 in in_hier_cluster1:\n",
    "        u = random.uniform(0,1)\n",
    "        if u < p*p:\n",
    "            possible_matches = [st for st in stubs if st in in_hier_cluster1]\n",
    "            \n",
    "        elif u < (p*p + p*q):\n",
    "            possible_matches = [st for st in stubs if st in in_hier_cluster2]\n",
    "        else:\n",
    "            possible_matches = [st for st in stubs if st not in in_hier_cluster1 + in_hier_cluster2]\n",
    "        \n",
    "    elif stub1 in in_hier_cluster2:\n",
    "        u = random.uniform(0,1)\n",
    "        if u < p*p:\n",
    "            possible_matches = [st for st in stubs if st in in_hier_cluster2]\n",
    "            \n",
    "        elif u < (p*p + p*q):\n",
    "            possible_matches = [st for st in stubs if st in in_hier_cluster1]\n",
    "        else:\n",
    "            possible_matches = [st for st in stubs if st not in in_hier_cluster1 + in_hier_cluster2]\n",
    "    \n",
    "    #Now we have a list of possible matches\n",
    "    #If its empty, we do nothing\n",
    "    if stub1 in possible_matches:\n",
    "        possible_matches.remove(stub1)\n",
    "    \n",
    "    if len(possible_matches) > 0:\n",
    "        stub2 = np.random.choice(a = possible_matches)\n",
    "        G.add_edge(stub1, stub2)\n",
    "        stubs.remove(stub1)\n",
    "        stubs.remove(stub2)      "
   ]
  },
  {
   "cell_type": "code",
   "execution_count": 36,
   "metadata": {},
   "outputs": [
    {
     "data": {
      "text/plain": [
       "3941"
      ]
     },
     "execution_count": 36,
     "metadata": {},
     "output_type": "execute_result"
    }
   ],
   "source": [
    "len(G.edges)"
   ]
  },
  {
   "cell_type": "code",
   "execution_count": 37,
   "metadata": {},
   "outputs": [],
   "source": [
    "G.remove_edges_from(nx.selfloop_edges(G))"
   ]
  },
  {
   "cell_type": "code",
   "execution_count": 38,
   "metadata": {},
   "outputs": [
    {
     "data": {
      "text/plain": [
       "3917"
      ]
     },
     "execution_count": 38,
     "metadata": {},
     "output_type": "execute_result"
    }
   ],
   "source": [
    "len(G.edges)"
   ]
  },
  {
   "cell_type": "code",
   "execution_count": 39,
   "metadata": {},
   "outputs": [
    {
     "data": {
      "image/png": "[encoded data removed]",
      "text/plain": [
       "<Figure size 432x288 with 1 Axes>"
      ]
     },
     "metadata": {
      "needs_background": "light"
     },
     "output_type": "display_data"
    }
   ],
   "source": [
    "visualize_network(G)"
   ]
  },
  {
   "cell_type": "code",
   "execution_count": 40,
   "metadata": {},
   "outputs": [
    {
     "data": {
      "text/plain": [
       "{23, 24, 25, 26, 27, 28, 29, 30}"
      ]
     },
     "execution_count": 40,
     "metadata": {},
     "output_type": "execute_result"
    }
   ],
   "source": [
    "set([G.degree(i) for i in range(len(G.nodes))])"
   ]
  },
  {
   "cell_type": "markdown",
   "metadata": {},
   "source": [
    "--------------\n",
    "Now a similar set up, but with 30 nodes in no cluster, two 'flat' clusters of 45 and 35 nodes each, and two hierarchical clusters. One hierarchical cluster will have 65 nodes, with two subclusters of 25 and 40 nodes each. \n",
    "\n",
    "The second hierarchical cluster will have 100 nodes, a subcluster of 30 nodes and a second subcluster of 70 nodes. The second subcluster will itself consist of two subclusters of 25 and 45 nodes.\n",
    "\n",
    "This adds up to a total of 550 nodes"
   ]
  },
  {
   "cell_type": "code",
   "execution_count": 69,
   "metadata": {},
   "outputs": [],
   "source": [
    "k = 30"
   ]
  },
  {
   "cell_type": "code",
   "execution_count": 70,
   "metadata": {},
   "outputs": [],
   "source": [
    "p = .7\n",
    "q = 1-p"
   ]
  },
  {
   "cell_type": "code",
   "execution_count": 71,
   "metadata": {},
   "outputs": [],
   "source": [
    "nc = 30\n",
    "a_ic = 45\n",
    "b_ic = 35\n",
    "a_ihc1 = 25\n",
    "a_ihc2 = 40\n",
    "b_ihc1 = 30\n",
    "b_ihc2_1 = 25\n",
    "b_ihc2_2 = 45"
   ]
  },
  {
   "cell_type": "code",
   "execution_count": 72,
   "metadata": {},
   "outputs": [],
   "source": [
    "no_cluster = [i for i in range(nc)]\n",
    "\n",
    "in_cluster_a = [i + nc for i in range(a_ic)]\n",
    "\n",
    "in_cluster_b = [i + nc + a_ic for i in range(b_ic)]\n",
    "\n",
    "in_hier_cluster_a1 = [i + nc + a_ic + b_ic for i in range(a_ihc1)]\n",
    "\n",
    "in_hier_cluster_a2 = [i + nc + a_ic + b_ic + a_ihc1 for i in range(a_ihc2)]\n",
    "\n",
    "in_hier_cluster_b1 = [i + nc + a_ic + b_ic + a_ihc1 + a_ihc2 for i in range(b_ihc1)]\n",
    "\n",
    "in_hier_cluster_b2_1 = [i + nc + a_ic + b_ic + a_ihc1 + a_ihc2 + b_ihc1 for i in range(b_ihc2_1)]\n",
    "\n",
    "in_hier_cluster_b2_2 = [i + nc + a_ic + b_ic + a_ihc1 + a_ihc2 + b_ihc1 + b_ihc2_1 for i in range(b_ihc2_2)]"
   ]
  },
  {
   "cell_type": "code",
   "execution_count": 73,
   "metadata": {},
   "outputs": [],
   "source": [
    "G = nx.Graph()\n",
    "\n",
    "(G.add_nodes_from(no_cluster \n",
    "                  + in_cluster_a\n",
    "                  + in_cluster_b\n",
    "                  + in_hier_cluster_a1\n",
    "                  + in_hier_cluster_a2\n",
    "                  + in_hier_cluster_b1\n",
    "                  + in_hier_cluster_b2_1\n",
    "                  + in_hier_cluster_b2_2))"
   ]
  },
  {
   "cell_type": "code",
   "execution_count": 74,
   "metadata": {},
   "outputs": [
    {
     "data": {
      "text/plain": [
       "275"
      ]
     },
     "execution_count": 74,
     "metadata": {},
     "output_type": "execute_result"
    }
   ],
   "source": [
    "len(G.nodes)"
   ]
  },
  {
   "cell_type": "code",
   "execution_count": 75,
   "metadata": {},
   "outputs": [],
   "source": [
    "stubs = ([node for node in no_cluster for i in range(k)]\n",
    "         + [node for node in in_cluster_a for i in range(k)]\n",
    "         + [node for node in in_cluster_b for i in range(k)]\n",
    "         + [node for node in in_hier_cluster_a1 for i in range(k)]\n",
    "         + [node for node in in_hier_cluster_a2 for i in range(k)]\n",
    "         + [node for node in in_hier_cluster_b1 for i in range(k)]\n",
    "         + [node for node in in_hier_cluster_b2_1 for i in range(k)]\n",
    "         + [node for node in in_hier_cluster_b2_2 for i in range(k)])"
   ]
  },
  {
   "cell_type": "code",
   "execution_count": 76,
   "metadata": {},
   "outputs": [],
   "source": [
    "while len(stubs) > 0:\n",
    "    stub1 = np.random.choice(a = stubs)\n",
    "     \n",
    "    #Determine possible matches depending on type of stub1 \n",
    "    if stub1 in no_cluster:\n",
    "        possible_matches = [st for st in stubs]\n",
    "        \n",
    "    elif stub1 in in_cluster_a: \n",
    "        u = random.uniform(0,1)\n",
    "        if u < p:\n",
    "            possible_matches = [st for st in stubs if st in in_cluster_a]\n",
    "\n",
    "        else:\n",
    "            possible_matches = [st for st in stubs if st not in in_cluster_a]\n",
    "    \n",
    "    elif stub1 in in_cluster_b: \n",
    "        u = random.uniform(0,1)\n",
    "        if u < p:\n",
    "            possible_matches = [st for st in stubs if st in in_cluster_b]\n",
    "\n",
    "        else:\n",
    "            possible_matches = [st for st in stubs if st not in in_cluster_b]\n",
    "            \n",
    "    elif stub1 in in_hier_cluster_a1:\n",
    "        u = random.uniform(0,1)\n",
    "        if u < p*p:\n",
    "            possible_matches = [st for st in stubs if st in in_hier_cluster_a1]\n",
    "            \n",
    "        elif u < (p*p + p*q):\n",
    "            possible_matches = [st for st in stubs if st in in_hier_cluster_a2]\n",
    "        else:\n",
    "            possible_matches = [st for st in stubs if st not in in_hier_cluster_a1 + in_hier_cluster_a2]\n",
    "        \n",
    "    elif stub1 in in_hier_cluster_a2:\n",
    "        u = random.uniform(0,1)\n",
    "        if u < p*p:\n",
    "            possible_matches = [st for st in stubs if st in in_hier_cluster_a2]\n",
    "            \n",
    "        elif u < (p*p + p*q):\n",
    "            possible_matches = [st for st in stubs if st in in_hier_cluster_a1]\n",
    "        else:\n",
    "            possible_matches = [st for st in stubs if st not in in_hier_cluster_a1 + in_hier_cluster_a2]\n",
    "    \n",
    "    elif stub1 in in_hier_cluster_b1:\n",
    "        u = random.uniform(0,1)\n",
    "        if u < p*p:\n",
    "            possible_matches = [st for st in stubs if st in in_hier_cluster_b1]\n",
    "        elif u < (p*p + p*q):\n",
    "            possible_matches = [st for st in stubs if st in in_hier_cluster_b2_1 + in_hier_cluster_b2_2]\n",
    "        else:\n",
    "            possible_matches = [st for st in stubs if st not in in_hier_cluster_b1 + in_hier_cluster_b2_1 + in_hier_cluster_b2_2]\n",
    "            \n",
    "    elif stub1 in in_hier_cluster_b2_1:\n",
    "        u = random.uniform(0,1)\n",
    "        if u < p*p*p:\n",
    "            possible_matches = [st for st in stubs if st in in_hier_cluster_b2_1]\n",
    "        elif u < (p*p*p + p*p*q):\n",
    "            possible_matches = [st for st in stubs if st in in_hier_cluster_b2_2]\n",
    "        elif u < (p*p*p + p*p*q + p*q):\n",
    "            possible_matches = [st for st in stubs if st in in_hier_cluster_b1]\n",
    "        else:\n",
    "            possible_matches = [st for st in stubs if st not in in_hier_cluster_b1 + in_hier_cluster_b2_1 + in_hier_cluster_b2_2]\n",
    "    \n",
    "    elif stub1 in in_hier_cluster_b2_2:\n",
    "        u = random.uniform(0,1)\n",
    "        if u < p*p*p:\n",
    "            possible_matches = [st for st in stubs if st in in_hier_cluster_b2_2]\n",
    "        elif u < (p*p*p + p*p*q):\n",
    "            possible_matches = [st for st in stubs if st in in_hier_cluster_b2_1]\n",
    "        elif u < (p*p*p + p*p*q + p*q):\n",
    "            possible_matches = [st for st in stubs if st in in_hier_cluster_b1]\n",
    "        else: \n",
    "            possible_matches = [st for st in stubs if st not in in_hier_cluster_b1 + in_hier_cluster_b2_1 + in_hier_cluster_b2_2]\n",
    "        \n",
    "    #Now we have a list of possible matches\n",
    "    #If its empty, we do nothing\n",
    "    if stub1 in possible_matches:\n",
    "        possible_matches.remove(stub1)\n",
    "    \n",
    "    if len(possible_matches) > 0:\n",
    "        stub2 = np.random.choice(a = possible_matches)\n",
    "        G.add_edge(stub1, stub2)\n",
    "        stubs.remove(stub1)\n",
    "        stubs.remove(stub2)      "
   ]
  },
  {
   "cell_type": "code",
   "execution_count": 77,
   "metadata": {},
   "outputs": [
    {
     "data": {
      "text/plain": [
       "3716"
      ]
     },
     "execution_count": 77,
     "metadata": {},
     "output_type": "execute_result"
    }
   ],
   "source": [
    "len(G.edges)"
   ]
  },
  {
   "cell_type": "code",
   "execution_count": 78,
   "metadata": {},
   "outputs": [],
   "source": [
    "G.remove_edges_from(nx.selfloop_edges(G))"
   ]
  },
  {
   "cell_type": "code",
   "execution_count": 79,
   "metadata": {},
   "outputs": [
    {
     "data": {
      "text/plain": [
       "3658"
      ]
     },
     "execution_count": 79,
     "metadata": {},
     "output_type": "execute_result"
    }
   ],
   "source": [
    "len(G.edges)"
   ]
  },
  {
   "cell_type": "code",
   "execution_count": 80,
   "metadata": {},
   "outputs": [
    {
     "data": {
      "image/png": "[encoded data removed]",
      "text/plain": [
       "<Figure size 432x288 with 1 Axes>"
      ]
     },
     "metadata": {
      "needs_background": "light"
     },
     "output_type": "display_data"
    }
   ],
   "source": [
    "visualize_network(G)"
   ]
  },
  {
   "cell_type": "code",
   "execution_count": null,
   "metadata": {},
   "outputs": [],
   "source": []
  }
 ],
 "metadata": {
  "kernelspec": {
   "display_name": "Python 3",
   "language": "python",
   "name": "python3"
  },
  "language_info": {
   "codemirror_mode": {
    "name": "ipython",
    "version": 3
   },
   "file_extension": ".py",
   "mimetype": "text/x-python",
   "name": "python",
   "nbconvert_exporter": "python",
   "pygments_lexer": "ipython3",
   "version": "3.7.6"
  }
 },
 "nbformat": 4,
 "nbformat_minor": 4
}
